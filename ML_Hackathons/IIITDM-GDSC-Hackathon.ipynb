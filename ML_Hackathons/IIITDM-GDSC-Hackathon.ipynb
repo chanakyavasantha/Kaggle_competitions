{
  "cells": [
    {
      "cell_type": "markdown",
      "metadata": {
        "id": "view-in-github",
        "colab_type": "text"
      },
      "source": [
        "<a href=\"https://colab.research.google.com/github/chanakyavasantha/Kaggle_competitions/blob/main/ML_Hackathons/IIITDM-GDSC-Hackathon.ipynb\" target=\"_parent\"><img src=\"https://colab.research.google.com/assets/colab-badge.svg\" alt=\"Open In Colab\"/></a>"
      ]
    },
    {
      "cell_type": "code",
      "execution_count": null,
      "id": "07c062aa",
      "metadata": {
        "execution": {
          "iopub.execute_input": "2023-02-12T06:45:14.968788Z",
          "iopub.status.busy": "2023-02-12T06:45:14.968216Z",
          "iopub.status.idle": "2023-02-12T06:45:14.985256Z",
          "shell.execute_reply": "2023-02-12T06:45:14.983813Z"
        },
        "papermill": {
          "duration": 0.030905,
          "end_time": "2023-02-12T06:45:14.988538",
          "exception": false,
          "start_time": "2023-02-12T06:45:14.957633",
          "status": "completed"
        },
        "tags": [],
        "id": "07c062aa"
      },
      "outputs": [],
      "source": [
        "# This Python 3 environment comes with many helpful analytics libraries installed\n",
        "# It is defined by the kaggle/python Docker image: https://github.com/kaggle/docker-python\n",
        "# For example, here's several helpful packages to load\n",
        "\n",
        "import numpy as np # linear algebra\n",
        "import pandas as pd # data processing, CSV file I/O (e.g. pd.read_csv)\\\n",
        "\n",
        "# Input data files are available in the read-only \"../input/\" directory\n",
        "# For example, running this (by clicking run or pressing Shift+Enter) will list all files under the input directory\n",
        "\n",
        "import os\n",
        "for dirname, _, filenames in os.walk('/kaggle/input'):\n",
        "    for filename in filenames:\n",
        "        print(os.path.join(dirname, filename))\n",
        "\n",
        "# You can write up to 20GB to the current directory (/kaggle/working/) that gets preserved as output when you create a version using \"Save & Run All\" \n",
        "# You can also write temporary files to /kaggle/temp/, but they won't be saved outside of the current session"
      ]
    },
    {
      "cell_type": "code",
      "execution_count": null,
      "id": "b7f6989e",
      "metadata": {
        "execution": {
          "iopub.execute_input": "2023-02-12T06:45:15.005165Z",
          "iopub.status.busy": "2023-02-12T06:45:15.004621Z",
          "iopub.status.idle": "2023-02-12T06:45:16.324347Z",
          "shell.execute_reply": "2023-02-12T06:45:16.323140Z"
        },
        "papermill": {
          "duration": 1.33134,
          "end_time": "2023-02-12T06:45:16.327436",
          "exception": false,
          "start_time": "2023-02-12T06:45:14.996096",
          "status": "completed"
        },
        "tags": [],
        "id": "b7f6989e"
      },
      "outputs": [],
      "source": [
        "from sklearn.preprocessing import scale \n",
        "from sklearn.linear_model import LinearRegression, RidgeCV, LassoCV\n",
        "from sklearn.model_selection import KFold, cross_val_score, train_test_split\n",
        "from sklearn.metrics import mean_squared_error\n",
        "from sklearn.decomposition import PCA"
      ]
    },
    {
      "cell_type": "code",
      "execution_count": null,
      "id": "640917b5",
      "metadata": {
        "execution": {
          "iopub.execute_input": "2023-02-12T06:45:16.344449Z",
          "iopub.status.busy": "2023-02-12T06:45:16.343730Z",
          "iopub.status.idle": "2023-02-12T06:45:16.377209Z",
          "shell.execute_reply": "2023-02-12T06:45:16.376024Z"
        },
        "papermill": {
          "duration": 0.044978,
          "end_time": "2023-02-12T06:45:16.379602",
          "exception": false,
          "start_time": "2023-02-12T06:45:16.334624",
          "status": "completed"
        },
        "tags": [],
        "colab": {
          "base_uri": "https://localhost:8080/",
          "height": 328
        },
        "id": "640917b5",
        "outputId": "b5516671-0e19-449a-8f4d-2046fac403e6"
      },
      "outputs": [
        {
          "output_type": "error",
          "ename": "FileNotFoundError",
          "evalue": "ignored",
          "traceback": [
            "\u001b[0;31m---------------------------------------------------------------------------\u001b[0m",
            "\u001b[0;31mFileNotFoundError\u001b[0m                         Traceback (most recent call last)",
            "\u001b[0;32m<ipython-input-4-beec36250df7>\u001b[0m in \u001b[0;36m<module>\u001b[0;34m\u001b[0m\n\u001b[0;32m----> 1\u001b[0;31m \u001b[0mdf\u001b[0m \u001b[0;34m=\u001b[0m \u001b[0mpd\u001b[0m\u001b[0;34m.\u001b[0m\u001b[0mread_csv\u001b[0m\u001b[0;34m(\u001b[0m\u001b[0;34m'/kaggle/input/iiitdm-hacks-track-1/sample_submission.csv'\u001b[0m\u001b[0;34m)\u001b[0m\u001b[0;34m\u001b[0m\u001b[0;34m\u001b[0m\u001b[0m\n\u001b[0m\u001b[1;32m      2\u001b[0m \u001b[0mdf\u001b[0m\u001b[0;34m\u001b[0m\u001b[0;34m\u001b[0m\u001b[0m\n",
            "\u001b[0;32m/usr/local/lib/python3.8/dist-packages/pandas/util/_decorators.py\u001b[0m in \u001b[0;36mwrapper\u001b[0;34m(*args, **kwargs)\u001b[0m\n\u001b[1;32m    309\u001b[0m                     \u001b[0mstacklevel\u001b[0m\u001b[0;34m=\u001b[0m\u001b[0mstacklevel\u001b[0m\u001b[0;34m,\u001b[0m\u001b[0;34m\u001b[0m\u001b[0;34m\u001b[0m\u001b[0m\n\u001b[1;32m    310\u001b[0m                 )\n\u001b[0;32m--> 311\u001b[0;31m             \u001b[0;32mreturn\u001b[0m \u001b[0mfunc\u001b[0m\u001b[0;34m(\u001b[0m\u001b[0;34m*\u001b[0m\u001b[0margs\u001b[0m\u001b[0;34m,\u001b[0m \u001b[0;34m**\u001b[0m\u001b[0mkwargs\u001b[0m\u001b[0;34m)\u001b[0m\u001b[0;34m\u001b[0m\u001b[0;34m\u001b[0m\u001b[0m\n\u001b[0m\u001b[1;32m    312\u001b[0m \u001b[0;34m\u001b[0m\u001b[0m\n\u001b[1;32m    313\u001b[0m         \u001b[0;32mreturn\u001b[0m \u001b[0mwrapper\u001b[0m\u001b[0;34m\u001b[0m\u001b[0;34m\u001b[0m\u001b[0m\n",
            "\u001b[0;32m/usr/local/lib/python3.8/dist-packages/pandas/io/parsers/readers.py\u001b[0m in \u001b[0;36mread_csv\u001b[0;34m(filepath_or_buffer, sep, delimiter, header, names, index_col, usecols, squeeze, prefix, mangle_dupe_cols, dtype, engine, converters, true_values, false_values, skipinitialspace, skiprows, skipfooter, nrows, na_values, keep_default_na, na_filter, verbose, skip_blank_lines, parse_dates, infer_datetime_format, keep_date_col, date_parser, dayfirst, cache_dates, iterator, chunksize, compression, thousands, decimal, lineterminator, quotechar, quoting, doublequote, escapechar, comment, encoding, encoding_errors, dialect, error_bad_lines, warn_bad_lines, on_bad_lines, delim_whitespace, low_memory, memory_map, float_precision, storage_options)\u001b[0m\n\u001b[1;32m    584\u001b[0m     \u001b[0mkwds\u001b[0m\u001b[0;34m.\u001b[0m\u001b[0mupdate\u001b[0m\u001b[0;34m(\u001b[0m\u001b[0mkwds_defaults\u001b[0m\u001b[0;34m)\u001b[0m\u001b[0;34m\u001b[0m\u001b[0;34m\u001b[0m\u001b[0m\n\u001b[1;32m    585\u001b[0m \u001b[0;34m\u001b[0m\u001b[0m\n\u001b[0;32m--> 586\u001b[0;31m     \u001b[0;32mreturn\u001b[0m \u001b[0m_read\u001b[0m\u001b[0;34m(\u001b[0m\u001b[0mfilepath_or_buffer\u001b[0m\u001b[0;34m,\u001b[0m \u001b[0mkwds\u001b[0m\u001b[0;34m)\u001b[0m\u001b[0;34m\u001b[0m\u001b[0;34m\u001b[0m\u001b[0m\n\u001b[0m\u001b[1;32m    587\u001b[0m \u001b[0;34m\u001b[0m\u001b[0m\n\u001b[1;32m    588\u001b[0m \u001b[0;34m\u001b[0m\u001b[0m\n",
            "\u001b[0;32m/usr/local/lib/python3.8/dist-packages/pandas/io/parsers/readers.py\u001b[0m in \u001b[0;36m_read\u001b[0;34m(filepath_or_buffer, kwds)\u001b[0m\n\u001b[1;32m    480\u001b[0m \u001b[0;34m\u001b[0m\u001b[0m\n\u001b[1;32m    481\u001b[0m     \u001b[0;31m# Create the parser.\u001b[0m\u001b[0;34m\u001b[0m\u001b[0;34m\u001b[0m\u001b[0;34m\u001b[0m\u001b[0m\n\u001b[0;32m--> 482\u001b[0;31m     \u001b[0mparser\u001b[0m \u001b[0;34m=\u001b[0m \u001b[0mTextFileReader\u001b[0m\u001b[0;34m(\u001b[0m\u001b[0mfilepath_or_buffer\u001b[0m\u001b[0;34m,\u001b[0m \u001b[0;34m**\u001b[0m\u001b[0mkwds\u001b[0m\u001b[0;34m)\u001b[0m\u001b[0;34m\u001b[0m\u001b[0;34m\u001b[0m\u001b[0m\n\u001b[0m\u001b[1;32m    483\u001b[0m \u001b[0;34m\u001b[0m\u001b[0m\n\u001b[1;32m    484\u001b[0m     \u001b[0;32mif\u001b[0m \u001b[0mchunksize\u001b[0m \u001b[0;32mor\u001b[0m \u001b[0miterator\u001b[0m\u001b[0;34m:\u001b[0m\u001b[0;34m\u001b[0m\u001b[0;34m\u001b[0m\u001b[0m\n",
            "\u001b[0;32m/usr/local/lib/python3.8/dist-packages/pandas/io/parsers/readers.py\u001b[0m in \u001b[0;36m__init__\u001b[0;34m(self, f, engine, **kwds)\u001b[0m\n\u001b[1;32m    809\u001b[0m             \u001b[0mself\u001b[0m\u001b[0;34m.\u001b[0m\u001b[0moptions\u001b[0m\u001b[0;34m[\u001b[0m\u001b[0;34m\"has_index_names\"\u001b[0m\u001b[0;34m]\u001b[0m \u001b[0;34m=\u001b[0m \u001b[0mkwds\u001b[0m\u001b[0;34m[\u001b[0m\u001b[0;34m\"has_index_names\"\u001b[0m\u001b[0;34m]\u001b[0m\u001b[0;34m\u001b[0m\u001b[0;34m\u001b[0m\u001b[0m\n\u001b[1;32m    810\u001b[0m \u001b[0;34m\u001b[0m\u001b[0m\n\u001b[0;32m--> 811\u001b[0;31m         \u001b[0mself\u001b[0m\u001b[0;34m.\u001b[0m\u001b[0m_engine\u001b[0m \u001b[0;34m=\u001b[0m \u001b[0mself\u001b[0m\u001b[0;34m.\u001b[0m\u001b[0m_make_engine\u001b[0m\u001b[0;34m(\u001b[0m\u001b[0mself\u001b[0m\u001b[0;34m.\u001b[0m\u001b[0mengine\u001b[0m\u001b[0;34m)\u001b[0m\u001b[0;34m\u001b[0m\u001b[0;34m\u001b[0m\u001b[0m\n\u001b[0m\u001b[1;32m    812\u001b[0m \u001b[0;34m\u001b[0m\u001b[0m\n\u001b[1;32m    813\u001b[0m     \u001b[0;32mdef\u001b[0m \u001b[0mclose\u001b[0m\u001b[0;34m(\u001b[0m\u001b[0mself\u001b[0m\u001b[0;34m)\u001b[0m\u001b[0;34m:\u001b[0m\u001b[0;34m\u001b[0m\u001b[0;34m\u001b[0m\u001b[0m\n",
            "\u001b[0;32m/usr/local/lib/python3.8/dist-packages/pandas/io/parsers/readers.py\u001b[0m in \u001b[0;36m_make_engine\u001b[0;34m(self, engine)\u001b[0m\n\u001b[1;32m   1038\u001b[0m             )\n\u001b[1;32m   1039\u001b[0m         \u001b[0;31m# error: Too many arguments for \"ParserBase\"\u001b[0m\u001b[0;34m\u001b[0m\u001b[0;34m\u001b[0m\u001b[0;34m\u001b[0m\u001b[0m\n\u001b[0;32m-> 1040\u001b[0;31m         \u001b[0;32mreturn\u001b[0m \u001b[0mmapping\u001b[0m\u001b[0;34m[\u001b[0m\u001b[0mengine\u001b[0m\u001b[0;34m]\u001b[0m\u001b[0;34m(\u001b[0m\u001b[0mself\u001b[0m\u001b[0;34m.\u001b[0m\u001b[0mf\u001b[0m\u001b[0;34m,\u001b[0m \u001b[0;34m**\u001b[0m\u001b[0mself\u001b[0m\u001b[0;34m.\u001b[0m\u001b[0moptions\u001b[0m\u001b[0;34m)\u001b[0m  \u001b[0;31m# type: ignore[call-arg]\u001b[0m\u001b[0;34m\u001b[0m\u001b[0;34m\u001b[0m\u001b[0m\n\u001b[0m\u001b[1;32m   1041\u001b[0m \u001b[0;34m\u001b[0m\u001b[0m\n\u001b[1;32m   1042\u001b[0m     \u001b[0;32mdef\u001b[0m \u001b[0m_failover_to_python\u001b[0m\u001b[0;34m(\u001b[0m\u001b[0mself\u001b[0m\u001b[0;34m)\u001b[0m\u001b[0;34m:\u001b[0m\u001b[0;34m\u001b[0m\u001b[0;34m\u001b[0m\u001b[0m\n",
            "\u001b[0;32m/usr/local/lib/python3.8/dist-packages/pandas/io/parsers/c_parser_wrapper.py\u001b[0m in \u001b[0;36m__init__\u001b[0;34m(self, src, **kwds)\u001b[0m\n\u001b[1;32m     49\u001b[0m \u001b[0;34m\u001b[0m\u001b[0m\n\u001b[1;32m     50\u001b[0m         \u001b[0;31m# open handles\u001b[0m\u001b[0;34m\u001b[0m\u001b[0;34m\u001b[0m\u001b[0;34m\u001b[0m\u001b[0m\n\u001b[0;32m---> 51\u001b[0;31m         \u001b[0mself\u001b[0m\u001b[0;34m.\u001b[0m\u001b[0m_open_handles\u001b[0m\u001b[0;34m(\u001b[0m\u001b[0msrc\u001b[0m\u001b[0;34m,\u001b[0m \u001b[0mkwds\u001b[0m\u001b[0;34m)\u001b[0m\u001b[0;34m\u001b[0m\u001b[0;34m\u001b[0m\u001b[0m\n\u001b[0m\u001b[1;32m     52\u001b[0m         \u001b[0;32massert\u001b[0m \u001b[0mself\u001b[0m\u001b[0;34m.\u001b[0m\u001b[0mhandles\u001b[0m \u001b[0;32mis\u001b[0m \u001b[0;32mnot\u001b[0m \u001b[0;32mNone\u001b[0m\u001b[0;34m\u001b[0m\u001b[0;34m\u001b[0m\u001b[0m\n\u001b[1;32m     53\u001b[0m \u001b[0;34m\u001b[0m\u001b[0m\n",
            "\u001b[0;32m/usr/local/lib/python3.8/dist-packages/pandas/io/parsers/base_parser.py\u001b[0m in \u001b[0;36m_open_handles\u001b[0;34m(self, src, kwds)\u001b[0m\n\u001b[1;32m    220\u001b[0m         \u001b[0mLet\u001b[0m \u001b[0mthe\u001b[0m \u001b[0mreaders\u001b[0m \u001b[0mopen\u001b[0m \u001b[0mIOHandles\u001b[0m \u001b[0mafter\u001b[0m \u001b[0mthey\u001b[0m \u001b[0mare\u001b[0m \u001b[0mdone\u001b[0m \u001b[0;32mwith\u001b[0m \u001b[0mtheir\u001b[0m \u001b[0mpotential\u001b[0m \u001b[0mraises\u001b[0m\u001b[0;34m.\u001b[0m\u001b[0;34m\u001b[0m\u001b[0;34m\u001b[0m\u001b[0m\n\u001b[1;32m    221\u001b[0m         \"\"\"\n\u001b[0;32m--> 222\u001b[0;31m         self.handles = get_handle(\n\u001b[0m\u001b[1;32m    223\u001b[0m             \u001b[0msrc\u001b[0m\u001b[0;34m,\u001b[0m\u001b[0;34m\u001b[0m\u001b[0;34m\u001b[0m\u001b[0m\n\u001b[1;32m    224\u001b[0m             \u001b[0;34m\"r\"\u001b[0m\u001b[0;34m,\u001b[0m\u001b[0;34m\u001b[0m\u001b[0;34m\u001b[0m\u001b[0m\n",
            "\u001b[0;32m/usr/local/lib/python3.8/dist-packages/pandas/io/common.py\u001b[0m in \u001b[0;36mget_handle\u001b[0;34m(path_or_buf, mode, encoding, compression, memory_map, is_text, errors, storage_options)\u001b[0m\n\u001b[1;32m    700\u001b[0m         \u001b[0;32mif\u001b[0m \u001b[0mioargs\u001b[0m\u001b[0;34m.\u001b[0m\u001b[0mencoding\u001b[0m \u001b[0;32mand\u001b[0m \u001b[0;34m\"b\"\u001b[0m \u001b[0;32mnot\u001b[0m \u001b[0;32min\u001b[0m \u001b[0mioargs\u001b[0m\u001b[0;34m.\u001b[0m\u001b[0mmode\u001b[0m\u001b[0;34m:\u001b[0m\u001b[0;34m\u001b[0m\u001b[0;34m\u001b[0m\u001b[0m\n\u001b[1;32m    701\u001b[0m             \u001b[0;31m# Encoding\u001b[0m\u001b[0;34m\u001b[0m\u001b[0;34m\u001b[0m\u001b[0;34m\u001b[0m\u001b[0m\n\u001b[0;32m--> 702\u001b[0;31m             handle = open(\n\u001b[0m\u001b[1;32m    703\u001b[0m                 \u001b[0mhandle\u001b[0m\u001b[0;34m,\u001b[0m\u001b[0;34m\u001b[0m\u001b[0;34m\u001b[0m\u001b[0m\n\u001b[1;32m    704\u001b[0m                 \u001b[0mioargs\u001b[0m\u001b[0;34m.\u001b[0m\u001b[0mmode\u001b[0m\u001b[0;34m,\u001b[0m\u001b[0;34m\u001b[0m\u001b[0;34m\u001b[0m\u001b[0m\n",
            "\u001b[0;31mFileNotFoundError\u001b[0m: [Errno 2] No such file or directory: '/kaggle/input/iiitdm-hacks-track-1/sample_submission.csv'"
          ]
        }
      ],
      "source": [
        "df = pd.read_csv('/kaggle/input/iiitdm-hacks-track-1/sample_submission.csv')\n",
        "df\n"
      ]
    },
    {
      "cell_type": "code",
      "execution_count": null,
      "id": "3d6224f8",
      "metadata": {
        "execution": {
          "iopub.execute_input": "2023-02-12T06:45:16.396262Z",
          "iopub.status.busy": "2023-02-12T06:45:16.395848Z",
          "iopub.status.idle": "2023-02-12T06:45:16.434040Z",
          "shell.execute_reply": "2023-02-12T06:45:16.432886Z"
        },
        "papermill": {
          "duration": 0.049246,
          "end_time": "2023-02-12T06:45:16.436279",
          "exception": false,
          "start_time": "2023-02-12T06:45:16.387033",
          "status": "completed"
        },
        "tags": [],
        "id": "3d6224f8"
      },
      "outputs": [],
      "source": [
        "df = pd.read_csv('/kaggle/input/iiitdm-hacks-track-1/train.csv')\n",
        "df"
      ]
    },
    {
      "cell_type": "code",
      "execution_count": null,
      "id": "d293aff8",
      "metadata": {
        "execution": {
          "iopub.execute_input": "2023-02-12T06:45:16.455467Z",
          "iopub.status.busy": "2023-02-12T06:45:16.454386Z",
          "iopub.status.idle": "2023-02-12T06:45:16.484181Z",
          "shell.execute_reply": "2023-02-12T06:45:16.483035Z"
        },
        "papermill": {
          "duration": 0.042714,
          "end_time": "2023-02-12T06:45:16.486645",
          "exception": false,
          "start_time": "2023-02-12T06:45:16.443931",
          "status": "completed"
        },
        "tags": [],
        "id": "d293aff8"
      },
      "outputs": [],
      "source": [
        "from sklearn.preprocessing import LabelEncoder\n",
        "le = LabelEncoder()\n",
        "#columns with string datatypes are sex,smoker,region\n",
        "df['sex'] = le.fit_transform(df['sex'])\n",
        "df['smoker'] = le.fit_transform(df['smoker'])\n",
        "df['region'] = le.fit_transform(df['region'])\n",
        "df"
      ]
    },
    {
      "cell_type": "code",
      "execution_count": null,
      "id": "45314726",
      "metadata": {
        "execution": {
          "iopub.execute_input": "2023-02-12T06:45:16.504440Z",
          "iopub.status.busy": "2023-02-12T06:45:16.504044Z",
          "iopub.status.idle": "2023-02-12T06:45:16.515361Z",
          "shell.execute_reply": "2023-02-12T06:45:16.514287Z"
        },
        "papermill": {
          "duration": 0.022882,
          "end_time": "2023-02-12T06:45:16.517617",
          "exception": false,
          "start_time": "2023-02-12T06:45:16.494735",
          "status": "completed"
        },
        "tags": [],
        "id": "45314726"
      },
      "outputs": [],
      "source": [
        "df.isnull().sum()"
      ]
    },
    {
      "cell_type": "code",
      "execution_count": null,
      "id": "2795e04a",
      "metadata": {
        "execution": {
          "iopub.execute_input": "2023-02-12T06:45:16.536081Z",
          "iopub.status.busy": "2023-02-12T06:45:16.535632Z",
          "iopub.status.idle": "2023-02-12T06:45:16.546875Z",
          "shell.execute_reply": "2023-02-12T06:45:16.545911Z"
        },
        "papermill": {
          "duration": 0.023019,
          "end_time": "2023-02-12T06:45:16.549129",
          "exception": false,
          "start_time": "2023-02-12T06:45:16.526110",
          "status": "completed"
        },
        "tags": [],
        "id": "2795e04a"
      },
      "outputs": [],
      "source": [
        "# replacing null values with mean values\n",
        "Mean = df['Total_Income'].mean()\n",
        "df['Total_Income'].fillna(value=Mean, inplace=True)\n",
        "df.isnull().sum()"
      ]
    },
    {
      "cell_type": "code",
      "execution_count": null,
      "id": "0bbe738b",
      "metadata": {
        "execution": {
          "iopub.execute_input": "2023-02-12T06:45:16.568683Z",
          "iopub.status.busy": "2023-02-12T06:45:16.568045Z",
          "iopub.status.idle": "2023-02-12T06:45:16.580039Z",
          "shell.execute_reply": "2023-02-12T06:45:16.578917Z"
        },
        "papermill": {
          "duration": 0.024876,
          "end_time": "2023-02-12T06:45:16.582229",
          "exception": false,
          "start_time": "2023-02-12T06:45:16.557353",
          "status": "completed"
        },
        "tags": [],
        "id": "0bbe738b"
      },
      "outputs": [],
      "source": [
        "# replacing remaining null values with mean values\n",
        "m1 = df['No_of_Family_Members'].mean()\n",
        "df['No_of_Family_Members'].fillna(value = m1,inplace = True)\n",
        "m2 = df['No_of_Family_Members_Earning'].mean()\n",
        "df['No_of_Family_Members_Earning'].fillna(value = m2,inplace = True)\n",
        "df.isnull().sum()"
      ]
    },
    {
      "cell_type": "code",
      "execution_count": null,
      "id": "0306176b",
      "metadata": {
        "execution": {
          "iopub.execute_input": "2023-02-12T06:45:16.600756Z",
          "iopub.status.busy": "2023-02-12T06:45:16.600138Z",
          "iopub.status.idle": "2023-02-12T06:45:16.623610Z",
          "shell.execute_reply": "2023-02-12T06:45:16.622483Z"
        },
        "papermill": {
          "duration": 0.035703,
          "end_time": "2023-02-12T06:45:16.626120",
          "exception": false,
          "start_time": "2023-02-12T06:45:16.590417",
          "status": "completed"
        },
        "tags": [],
        "id": "0306176b"
      },
      "outputs": [],
      "source": [
        "df"
      ]
    },
    {
      "cell_type": "code",
      "execution_count": null,
      "id": "4328a676",
      "metadata": {
        "execution": {
          "iopub.execute_input": "2023-02-12T06:45:16.645694Z",
          "iopub.status.busy": "2023-02-12T06:45:16.644948Z",
          "iopub.status.idle": "2023-02-12T06:45:17.804199Z",
          "shell.execute_reply": "2023-02-12T06:45:17.802925Z"
        },
        "papermill": {
          "duration": 1.172533,
          "end_time": "2023-02-12T06:45:17.807481",
          "exception": false,
          "start_time": "2023-02-12T06:45:16.634948",
          "status": "completed"
        },
        "tags": [],
        "id": "4328a676"
      },
      "outputs": [],
      "source": [
        "import matplotlib.pyplot as plt\n",
        "import pandas as pd\n",
        "import seaborn as sns\n",
        "dataplot = sns.heatmap(df.corr(), cmap=\"YlGnBu\", annot=True)\n",
        "plt.show(dataplot)"
      ]
    },
    {
      "cell_type": "code",
      "execution_count": null,
      "id": "5e4b528b",
      "metadata": {
        "execution": {
          "iopub.execute_input": "2023-02-12T06:45:17.830702Z",
          "iopub.status.busy": "2023-02-12T06:45:17.830265Z",
          "iopub.status.idle": "2023-02-12T06:45:18.271649Z",
          "shell.execute_reply": "2023-02-12T06:45:18.270605Z"
        },
        "papermill": {
          "duration": 0.455739,
          "end_time": "2023-02-12T06:45:18.274361",
          "exception": false,
          "start_time": "2023-02-12T06:45:17.818622",
          "status": "completed"
        },
        "tags": [],
        "id": "5e4b528b"
      },
      "outputs": [],
      "source": [
        "import matplotlib.pyplot as plt\n",
        "import seaborn as sb\n",
        "C_mat = df.corr()\n",
        "fig = plt.figure(figsize = (15,15))\n",
        "\n",
        "sb.heatmap(C_mat, vmax = .8, square = True)\n",
        "plt.show()"
      ]
    },
    {
      "cell_type": "code",
      "execution_count": null,
      "id": "046f9e2b",
      "metadata": {
        "execution": {
          "iopub.execute_input": "2023-02-12T06:45:18.298953Z",
          "iopub.status.busy": "2023-02-12T06:45:18.297679Z",
          "iopub.status.idle": "2023-02-12T06:45:18.306998Z",
          "shell.execute_reply": "2023-02-12T06:45:18.306027Z"
        },
        "papermill": {
          "duration": 0.024344,
          "end_time": "2023-02-12T06:45:18.309708",
          "exception": false,
          "start_time": "2023-02-12T06:45:18.285364",
          "status": "completed"
        },
        "tags": [],
        "id": "046f9e2b"
      },
      "outputs": [],
      "source": [
        "df = df.drop(['region','No_of_Family_Members_Earning'],axis = 1)"
      ]
    },
    {
      "cell_type": "code",
      "execution_count": null,
      "id": "72f3d265",
      "metadata": {
        "execution": {
          "iopub.execute_input": "2023-02-12T06:45:18.333525Z",
          "iopub.status.busy": "2023-02-12T06:45:18.332701Z",
          "iopub.status.idle": "2023-02-12T06:45:18.339585Z",
          "shell.execute_reply": "2023-02-12T06:45:18.338763Z"
        },
        "papermill": {
          "duration": 0.021354,
          "end_time": "2023-02-12T06:45:18.341919",
          "exception": false,
          "start_time": "2023-02-12T06:45:18.320565",
          "status": "completed"
        },
        "tags": [],
        "id": "72f3d265"
      },
      "outputs": [],
      "source": [
        "from sklearn.model_selection import train_test_split\n",
        "X_train = df.drop('charges', axis = 1).values #X_train\n",
        "y_train = df['charges'] #Y_train"
      ]
    },
    {
      "cell_type": "code",
      "execution_count": null,
      "id": "c1baa938",
      "metadata": {
        "execution": {
          "iopub.execute_input": "2023-02-12T06:45:18.365456Z",
          "iopub.status.busy": "2023-02-12T06:45:18.364777Z",
          "iopub.status.idle": "2023-02-12T06:45:18.396072Z",
          "shell.execute_reply": "2023-02-12T06:45:18.394870Z"
        },
        "papermill": {
          "duration": 0.046011,
          "end_time": "2023-02-12T06:45:18.398524",
          "exception": false,
          "start_time": "2023-02-12T06:45:18.352513",
          "status": "completed"
        },
        "tags": [],
        "id": "c1baa938"
      },
      "outputs": [],
      "source": [
        "df1 = pd.read_csv('/kaggle/input/iiitdm-hacks-track-1/test.csv')\n",
        "df1"
      ]
    },
    {
      "cell_type": "code",
      "execution_count": null,
      "id": "43bcb6b0",
      "metadata": {
        "execution": {
          "iopub.execute_input": "2023-02-12T06:45:18.422971Z",
          "iopub.status.busy": "2023-02-12T06:45:18.422303Z",
          "iopub.status.idle": "2023-02-12T06:45:18.447770Z",
          "shell.execute_reply": "2023-02-12T06:45:18.446369Z"
        },
        "papermill": {
          "duration": 0.040668,
          "end_time": "2023-02-12T06:45:18.450352",
          "exception": false,
          "start_time": "2023-02-12T06:45:18.409684",
          "status": "completed"
        },
        "tags": [],
        "id": "43bcb6b0"
      },
      "outputs": [],
      "source": [
        "from sklearn.preprocessing import LabelEncoder\n",
        "le = LabelEncoder()\n",
        "#columns with string datatypes are sex,smoker,region\n",
        "df1['sex'] = le.fit_transform(df1['sex'])\n",
        "df1['smoker'] = le.fit_transform(df1['smoker'])\n",
        "df1['region'] = le.fit_transform(df1['region'])\n",
        "df1\n"
      ]
    },
    {
      "cell_type": "code",
      "execution_count": null,
      "id": "c59e547f",
      "metadata": {
        "execution": {
          "iopub.execute_input": "2023-02-12T06:45:18.475609Z",
          "iopub.status.busy": "2023-02-12T06:45:18.475235Z",
          "iopub.status.idle": "2023-02-12T06:45:18.485485Z",
          "shell.execute_reply": "2023-02-12T06:45:18.484155Z"
        },
        "papermill": {
          "duration": 0.025375,
          "end_time": "2023-02-12T06:45:18.487727",
          "exception": false,
          "start_time": "2023-02-12T06:45:18.462352",
          "status": "completed"
        },
        "tags": [],
        "id": "c59e547f"
      },
      "outputs": [],
      "source": [
        "df1.isnull().sum()"
      ]
    },
    {
      "cell_type": "code",
      "execution_count": null,
      "id": "0406eac0",
      "metadata": {
        "execution": {
          "iopub.execute_input": "2023-02-12T06:45:18.513877Z",
          "iopub.status.busy": "2023-02-12T06:45:18.512774Z",
          "iopub.status.idle": "2023-02-12T06:45:18.526849Z",
          "shell.execute_reply": "2023-02-12T06:45:18.525807Z"
        },
        "papermill": {
          "duration": 0.029823,
          "end_time": "2023-02-12T06:45:18.529532",
          "exception": false,
          "start_time": "2023-02-12T06:45:18.499709",
          "status": "completed"
        },
        "tags": [],
        "id": "0406eac0"
      },
      "outputs": [],
      "source": [
        "# replacing remaining null values with mean values\n",
        "m1 = df1['No_of_Family_Members'].mean()\n",
        "df1['No_of_Family_Members'].fillna(value = m1,inplace = True)\n",
        "m2 = df1['No_of_Family_Members_Earning'].mean()\n",
        "df1['No_of_Family_Members_Earning'].fillna(value = m2,inplace = True)\n",
        "m3 = df1['bmi'].mean()\n",
        "df1['bmi'].fillna(value = m3,inplace = True)\n",
        "df1.isnull().sum()"
      ]
    },
    {
      "cell_type": "code",
      "execution_count": null,
      "id": "a9203c9c",
      "metadata": {
        "execution": {
          "iopub.execute_input": "2023-02-12T06:45:18.555393Z",
          "iopub.status.busy": "2023-02-12T06:45:18.554732Z",
          "iopub.status.idle": "2023-02-12T06:45:18.560792Z",
          "shell.execute_reply": "2023-02-12T06:45:18.559998Z"
        },
        "papermill": {
          "duration": 0.021259,
          "end_time": "2023-02-12T06:45:18.562931",
          "exception": false,
          "start_time": "2023-02-12T06:45:18.541672",
          "status": "completed"
        },
        "tags": [],
        "id": "a9203c9c"
      },
      "outputs": [],
      "source": [
        "df1 = df1.drop(['region','No_of_Family_Members_Earning'],axis = 1)"
      ]
    },
    {
      "cell_type": "code",
      "execution_count": null,
      "id": "e0143a6f",
      "metadata": {
        "execution": {
          "iopub.execute_input": "2023-02-12T06:45:18.588531Z",
          "iopub.status.busy": "2023-02-12T06:45:18.587901Z",
          "iopub.status.idle": "2023-02-12T06:45:18.592498Z",
          "shell.execute_reply": "2023-02-12T06:45:18.591727Z"
        },
        "papermill": {
          "duration": 0.019898,
          "end_time": "2023-02-12T06:45:18.594619",
          "exception": false,
          "start_time": "2023-02-12T06:45:18.574721",
          "status": "completed"
        },
        "tags": [],
        "id": "e0143a6f"
      },
      "outputs": [],
      "source": [
        "X_test = df1"
      ]
    },
    {
      "cell_type": "code",
      "execution_count": null,
      "id": "69d94fc3",
      "metadata": {
        "execution": {
          "iopub.execute_input": "2023-02-12T06:45:18.619930Z",
          "iopub.status.busy": "2023-02-12T06:45:18.619512Z",
          "iopub.status.idle": "2023-02-12T06:45:25.147458Z",
          "shell.execute_reply": "2023-02-12T06:45:25.146318Z"
        },
        "papermill": {
          "duration": 6.544172,
          "end_time": "2023-02-12T06:45:25.150352",
          "exception": false,
          "start_time": "2023-02-12T06:45:18.606180",
          "status": "completed"
        },
        "tags": [],
        "id": "69d94fc3"
      },
      "outputs": [],
      "source": [
        "from keras.callbacks import ModelCheckpoint\n",
        "from keras.models import Sequential\n",
        "from keras.layers import Dense, Activation, Flatten\n",
        "from sklearn.model_selection import train_test_split\n",
        "from sklearn.ensemble import RandomForestRegressor\n",
        "from sklearn.metrics import mean_absolute_error \n",
        "from matplotlib import pyplot as plt\n",
        "import seaborn as sb\n",
        "import matplotlib.pyplot as plt\n",
        "import pandas as pd\n",
        "import numpy as np\n",
        "import warnings \n",
        "warnings.filterwarnings('ignore')\n",
        "warnings.filterwarnings('ignore', category=DeprecationWarning)\n",
        "from xgboost import XGBRegressor\n",
        "import matplotlib.pyplot as plt\n",
        "import numpy as np\n",
        "from sklearn import datasets, ensemble\n",
        "from sklearn.inspection import permutation_importance\n",
        "from sklearn.metrics import mean_squared_error\n",
        "from sklearn.model_selection import train_test_split"
      ]
    },
    {
      "cell_type": "code",
      "execution_count": null,
      "id": "2d8e2b94",
      "metadata": {
        "execution": {
          "iopub.execute_input": "2023-02-12T06:45:25.176906Z",
          "iopub.status.busy": "2023-02-12T06:45:25.175898Z",
          "iopub.status.idle": "2023-02-12T06:45:25.180855Z",
          "shell.execute_reply": "2023-02-12T06:45:25.179990Z"
        },
        "papermill": {
          "duration": 0.020649,
          "end_time": "2023-02-12T06:45:25.183060",
          "exception": false,
          "start_time": "2023-02-12T06:45:25.162411",
          "status": "completed"
        },
        "tags": [],
        "id": "2d8e2b94"
      },
      "outputs": [],
      "source": [
        "params = {\n",
        "    \"n_estimators\": 500,\n",
        "    \"max_depth\": 4,\n",
        "    \"min_samples_split\": 5,\n",
        "    \"learning_rate\": 0.01,\n",
        "    \"loss\": \"squared_error\",\n",
        "}"
      ]
    },
    {
      "cell_type": "code",
      "execution_count": null,
      "id": "48385c34",
      "metadata": {
        "execution": {
          "iopub.execute_input": "2023-02-12T06:45:25.208882Z",
          "iopub.status.busy": "2023-02-12T06:45:25.208189Z",
          "iopub.status.idle": "2023-02-12T06:45:25.224751Z",
          "shell.execute_reply": "2023-02-12T06:45:25.223508Z"
        },
        "papermill": {
          "duration": 0.032259,
          "end_time": "2023-02-12T06:45:25.227292",
          "exception": false,
          "start_time": "2023-02-12T06:45:25.195033",
          "status": "completed"
        },
        "tags": [],
        "id": "48385c34"
      },
      "outputs": [],
      "source": [
        "from sklearn.tree import DecisionTreeRegressor \n",
        "regressor = DecisionTreeRegressor(random_state = 21)\n",
        "regressor.fit(X_train, y_train)"
      ]
    },
    {
      "cell_type": "code",
      "execution_count": null,
      "id": "0c027005",
      "metadata": {
        "execution": {
          "iopub.execute_input": "2023-02-12T06:45:25.253347Z",
          "iopub.status.busy": "2023-02-12T06:45:25.252612Z",
          "iopub.status.idle": "2023-02-12T06:45:25.259860Z",
          "shell.execute_reply": "2023-02-12T06:45:25.259015Z"
        },
        "papermill": {
          "duration": 0.02265,
          "end_time": "2023-02-12T06:45:25.261932",
          "exception": false,
          "start_time": "2023-02-12T06:45:25.239282",
          "status": "completed"
        },
        "tags": [],
        "id": "0c027005"
      },
      "outputs": [],
      "source": [
        "y_pred = regressor.predict(X_test)\n",
        "y_pred = pd.DataFrame(y_pred)"
      ]
    },
    {
      "cell_type": "code",
      "execution_count": null,
      "id": "555d1f2f",
      "metadata": {
        "execution": {
          "iopub.execute_input": "2023-02-12T06:45:25.287772Z",
          "iopub.status.busy": "2023-02-12T06:45:25.286729Z",
          "iopub.status.idle": "2023-02-12T06:45:25.293209Z",
          "shell.execute_reply": "2023-02-12T06:45:25.292385Z"
        },
        "papermill": {
          "duration": 0.02173,
          "end_time": "2023-02-12T06:45:25.295384",
          "exception": false,
          "start_time": "2023-02-12T06:45:25.273654",
          "status": "completed"
        },
        "tags": [],
        "id": "555d1f2f"
      },
      "outputs": [],
      "source": [
        "li = []\n",
        "for i in range(238):\n",
        "    li.append(i)\n",
        "y_pred['Id'] = pd.Series(li)\n",
        "y_pred.columns = ['Predicted','Id']"
      ]
    },
    {
      "cell_type": "code",
      "execution_count": null,
      "id": "33e15433",
      "metadata": {
        "execution": {
          "iopub.execute_input": "2023-02-12T06:45:25.321424Z",
          "iopub.status.busy": "2023-02-12T06:45:25.320845Z",
          "iopub.status.idle": "2023-02-12T06:45:25.329201Z",
          "shell.execute_reply": "2023-02-12T06:45:25.328222Z"
        },
        "papermill": {
          "duration": 0.024201,
          "end_time": "2023-02-12T06:45:25.331627",
          "exception": false,
          "start_time": "2023-02-12T06:45:25.307426",
          "status": "completed"
        },
        "tags": [],
        "id": "33e15433"
      },
      "outputs": [],
      "source": [
        "my_submission = y_pred\n",
        "# you could use any filename. We choose submission here\n",
        "my_submission.to_csv('submission.csv', index=False)"
      ]
    },
    {
      "cell_type": "code",
      "execution_count": null,
      "id": "2e55ac58",
      "metadata": {
        "execution": {
          "iopub.execute_input": "2023-02-12T06:45:25.357192Z",
          "iopub.status.busy": "2023-02-12T06:45:25.356774Z",
          "iopub.status.idle": "2023-02-12T06:45:25.372316Z",
          "shell.execute_reply": "2023-02-12T06:45:25.371201Z"
        },
        "papermill": {
          "duration": 0.03097,
          "end_time": "2023-02-12T06:45:25.374542",
          "exception": false,
          "start_time": "2023-02-12T06:45:25.343572",
          "status": "completed"
        },
        "tags": [],
        "id": "2e55ac58"
      },
      "outputs": [],
      "source": [
        "DF = pd.read_csv('/kaggle/working/submission.csv')\n",
        "DF"
      ]
    },
    {
      "cell_type": "code",
      "execution_count": null,
      "id": "f81fcdea",
      "metadata": {
        "papermill": {
          "duration": 0.011895,
          "end_time": "2023-02-12T06:45:25.398630",
          "exception": false,
          "start_time": "2023-02-12T06:45:25.386735",
          "status": "completed"
        },
        "tags": [],
        "id": "f81fcdea"
      },
      "outputs": [],
      "source": [
        "Data = pd.read_csv('insurance.csv')\n",
        "Data"
      ]
    },
    {
      "cell_type": "code",
      "execution_count": null,
      "id": "1a61a024",
      "metadata": {
        "papermill": {
          "duration": 0.011612,
          "end_time": "2023-02-12T06:45:25.422369",
          "exception": false,
          "start_time": "2023-02-12T06:45:25.410757",
          "status": "completed"
        },
        "tags": [],
        "id": "1a61a024"
      },
      "outputs": [],
      "source": []
    }
  ],
  "metadata": {
    "kernelspec": {
      "display_name": "Python 3",
      "language": "python",
      "name": "python3"
    },
    "language_info": {
      "codemirror_mode": {
        "name": "ipython",
        "version": 3
      },
      "file_extension": ".py",
      "mimetype": "text/x-python",
      "name": "python",
      "nbconvert_exporter": "python",
      "pygments_lexer": "ipython3",
      "version": "3.7.12"
    },
    "papermill": {
      "default_parameters": {},
      "duration": 22.160556,
      "end_time": "2023-02-12T06:45:28.534571",
      "environment_variables": {},
      "exception": null,
      "input_path": "__notebook__.ipynb",
      "output_path": "__notebook__.ipynb",
      "parameters": {},
      "start_time": "2023-02-12T06:45:06.374015",
      "version": "2.3.4"
    },
    "colab": {
      "provenance": [],
      "include_colab_link": true
    }
  },
  "nbformat": 4,
  "nbformat_minor": 5
}